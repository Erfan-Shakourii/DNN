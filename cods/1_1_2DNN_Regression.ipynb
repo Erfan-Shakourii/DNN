{
 "cells": [
  {
   "cell_type": "code",
   "execution_count": 3,
   "id": "c2bb8f82",
   "metadata": {},
   "outputs": [],
   "source": [
    "import matplotlib.pyplot as plt\n",
    "import numpy as np\n",
    "import tensorflow as tf\n",
    "from tensorflow import keras\n",
    "from sklearn.preprocessing import StandardScaler\n",
    "from sklearn.model_selection import GridSearchCV\n",
    "from sklearn.model_selection import train_test_split\n",
    "from sklearn.datasets import fetch_california_housing\n"
   ]
  },
  {
   "cell_type": "markdown",
   "id": "32814e22",
   "metadata": {},
   "source": [
    "# Regression"
   ]
  },
  {
   "cell_type": "code",
   "execution_count": 4,
   "id": "bb4f2fd2",
   "metadata": {},
   "outputs": [
    {
     "data": {
      "text/plain": [
       "{'data': array([[   8.3252    ,   41.        ,    6.98412698, ...,    2.55555556,\n",
       "           37.88      , -122.23      ],\n",
       "        [   8.3014    ,   21.        ,    6.23813708, ...,    2.10984183,\n",
       "           37.86      , -122.22      ],\n",
       "        [   7.2574    ,   52.        ,    8.28813559, ...,    2.80225989,\n",
       "           37.85      , -122.24      ],\n",
       "        ...,\n",
       "        [   1.7       ,   17.        ,    5.20554273, ...,    2.3256351 ,\n",
       "           39.43      , -121.22      ],\n",
       "        [   1.8672    ,   18.        ,    5.32951289, ...,    2.12320917,\n",
       "           39.43      , -121.32      ],\n",
       "        [   2.3886    ,   16.        ,    5.25471698, ...,    2.61698113,\n",
       "           39.37      , -121.24      ]]),\n",
       " 'target': array([4.526, 3.585, 3.521, ..., 0.923, 0.847, 0.894]),\n",
       " 'frame': None,\n",
       " 'target_names': ['MedHouseVal'],\n",
       " 'feature_names': ['MedInc',\n",
       "  'HouseAge',\n",
       "  'AveRooms',\n",
       "  'AveBedrms',\n",
       "  'Population',\n",
       "  'AveOccup',\n",
       "  'Latitude',\n",
       "  'Longitude'],\n",
       " 'DESCR': '.. _california_housing_dataset:\\n\\nCalifornia Housing dataset\\n--------------------------\\n\\n**Data Set Characteristics:**\\n\\n    :Number of Instances: 20640\\n\\n    :Number of Attributes: 8 numeric, predictive attributes and the target\\n\\n    :Attribute Information:\\n        - MedInc        median income in block\\n        - HouseAge      median house age in block\\n        - AveRooms      average number of rooms\\n        - AveBedrms     average number of bedrooms\\n        - Population    block population\\n        - AveOccup      average house occupancy\\n        - Latitude      house block latitude\\n        - Longitude     house block longitude\\n\\n    :Missing Attribute Values: None\\n\\nThis dataset was obtained from the StatLib repository.\\nhttp://lib.stat.cmu.edu/datasets/\\n\\nThe target variable is the median house value for California districts.\\n\\nThis dataset was derived from the 1990 U.S. census, using one row per census\\nblock group. A block group is the smallest geographical unit for which the U.S.\\nCensus Bureau publishes sample data (a block group typically has a population\\nof 600 to 3,000 people).\\n\\nIt can be downloaded/loaded using the\\n:func:`sklearn.datasets.fetch_california_housing` function.\\n\\n.. topic:: References\\n\\n    - Pace, R. Kelley and Ronald Barry, Sparse Spatial Autoregressions,\\n      Statistics and Probability Letters, 33 (1997) 291-297\\n'}"
      ]
     },
     "execution_count": 4,
     "metadata": {},
     "output_type": "execute_result"
    }
   ],
   "source": [
    "house = fetch_california_housing()\n",
    "house"
   ]
  },
  {
   "cell_type": "code",
   "execution_count": 5,
   "id": "391481ff",
   "metadata": {},
   "outputs": [
    {
     "data": {
      "text/plain": [
       "sklearn.utils.Bunch"
      ]
     },
     "execution_count": 5,
     "metadata": {},
     "output_type": "execute_result"
    }
   ],
   "source": [
    "type(house)"
   ]
  },
  {
   "cell_type": "code",
   "execution_count": 8,
   "id": "49392f08",
   "metadata": {},
   "outputs": [
    {
     "data": {
      "text/plain": [
       "6"
      ]
     },
     "execution_count": 8,
     "metadata": {},
     "output_type": "execute_result"
    }
   ],
   "source": [
    "len(house)"
   ]
  },
  {
   "cell_type": "code",
   "execution_count": 19,
   "id": "54fc9457",
   "metadata": {},
   "outputs": [
    {
     "data": {
      "text/plain": [
       "dict_keys(['data', 'target', 'frame', 'target_names', 'feature_names', 'DESCR'])"
      ]
     },
     "execution_count": 19,
     "metadata": {},
     "output_type": "execute_result"
    }
   ],
   "source": [
    "house.keys()"
   ]
  },
  {
   "cell_type": "code",
   "execution_count": 20,
   "id": "e32eab16",
   "metadata": {},
   "outputs": [
    {
     "name": "stdout",
     "output_type": "stream",
     "text": [
      "20640 20640\n"
     ]
    }
   ],
   "source": [
    "a =house[\"data\"]\n",
    "b = house[\"target\"]\n",
    "a = len(a)\n",
    "b= len(b)\n",
    "print (a,b)"
   ]
  },
  {
   "cell_type": "code",
   "execution_count": 21,
   "id": "3250b638",
   "metadata": {},
   "outputs": [],
   "source": [
    "X_train0, X_test, y_train0, y_test = train_test_split(\n",
    "                 house[\"data\"],\n",
    "                 house[\"target\"])"
   ]
  },
  {
   "cell_type": "code",
   "execution_count": 22,
   "id": "984b230c-9740-47d0-a06d-35b532d4d69c",
   "metadata": {},
   "outputs": [],
   "source": [
    "X_train1, X_validation, y_train1, y_validation = train_test_split(X_train0,\n",
    "                                                                  y_train0)"
   ]
  },
  {
   "cell_type": "code",
   "execution_count": 24,
   "id": "bf3378f7",
   "metadata": {},
   "outputs": [
    {
     "name": "stdout",
     "output_type": "stream",
     "text": [
      "X_test: (5160, 8) X_train0: (15480, 8) X_train1: (11610, 8) X_validation: (3870, 8)\n"
     ]
    }
   ],
   "source": [
    "test = X_test.shape\n",
    "train0 = X_train0.shape\n",
    "train1 = X_train1.shape\n",
    "validation = X_validation.shape\n",
    "print(\"X_test:\",test,\"X_train0:\",train0,\"X_train1:\",train1,\"X_validation:\",validation)"
   ]
  },
  {
   "cell_type": "code",
   "execution_count": 25,
   "id": "e1b91290-8ae9-41bf-b65e-9acc83ce5d9c",
   "metadata": {},
   "outputs": [],
   "source": [
    "sc = StandardScaler()\n",
    "X_train_s = sc.fit_transform(X_train1)\n",
    "X_validation_s = sc.transform(X_validation)\n",
    "X_test_s = sc.transform(X_test)"
   ]
  },
  {
   "cell_type": "code",
   "execution_count": 27,
   "id": "a06e196c",
   "metadata": {},
   "outputs": [
    {
     "data": {
      "text/plain": [
       "array([[   3.0431    ,   41.        ,    4.60547504, ...,    2.44122383,\n",
       "          34.2       , -118.34      ],\n",
       "       [   3.6953    ,   34.        ,    4.8912037 , ...,    1.98842593,\n",
       "          34.05      , -118.4       ],\n",
       "       [   3.3553    ,   21.        ,    5.51751592, ...,    3.64968153,\n",
       "          34.07      , -117.45      ],\n",
       "       ...,\n",
       "       [   2.5875    ,   24.        ,    9.77578475, ...,    3.38565022,\n",
       "          38.94      , -119.95      ],\n",
       "       [   6.9532    ,    4.        ,    7.27010622, ...,    2.83915023,\n",
       "          34.14      , -117.68      ],\n",
       "       [   3.59      ,   35.        ,    4.67554077, ...,    2.62562396,\n",
       "          33.89      , -118.29      ]])"
      ]
     },
     "execution_count": 27,
     "metadata": {},
     "output_type": "execute_result"
    }
   ],
   "source": [
    "X_train1"
   ]
  },
  {
   "cell_type": "code",
   "execution_count": 26,
   "id": "f5a08c76",
   "metadata": {},
   "outputs": [
    {
     "data": {
      "text/plain": [
       "array([[-0.42783509,  0.97546358, -0.33170069, ..., -0.11536442,\n",
       "        -0.66769532,  0.60954438],\n",
       "       [-0.08295701,  0.42024784, -0.21379312, ..., -0.21019218,\n",
       "        -0.73797284,  0.5795247 ],\n",
       "       [-0.26274626, -0.61086713,  0.0446582 , ...,  0.13771832,\n",
       "        -0.7286025 ,  1.05483636],\n",
       "       ...,\n",
       "       [-0.66875267, -0.37291752,  1.80185719, ...,  0.08242324,\n",
       "         1.55307419, -0.1959838 ],\n",
       "       [ 1.63979412, -1.95924823,  0.76787461, ..., -0.0320282 ,\n",
       "        -0.69580633,  0.93976091],\n",
       "       [-0.1386388 ,  0.49956437, -0.30278767, ..., -0.0767462 ,\n",
       "        -0.81293552,  0.63456079]])"
      ]
     },
     "execution_count": 26,
     "metadata": {},
     "output_type": "execute_result"
    }
   ],
   "source": [
    "X_train_s"
   ]
  },
  {
   "cell_type": "code",
   "execution_count": 28,
   "id": "9c3d1f21-9d9f-4c09-84cf-c5003e91a458",
   "metadata": {},
   "outputs": [],
   "source": [
    "model = keras.models.Sequential([\n",
    "    keras.layers.Dense(50, activation=\"relu\"),\n",
    "    keras.layers.Dense(10, activation=\"relu\"),\n",
    "    keras.layers.Dense(1)\n",
    "])"
   ]
  },
  {
   "cell_type": "code",
   "execution_count": 29,
   "id": "6bf76b5a-12aa-493c-a5d4-70aaa39ba358",
   "metadata": {},
   "outputs": [],
   "source": [
    "model.compile(loss=\"mean_squared_error\",\n",
    "              optimizer=\"sgd\",\n",
    "              metrics=[\"mean_absolute_error\"])"
   ]
  },
  {
   "cell_type": "code",
   "execution_count": 30,
   "id": "c2e35ee1-6829-4ac9-a8cb-200a7c90271a",
   "metadata": {},
   "outputs": [
    {
     "name": "stdout",
     "output_type": "stream",
     "text": [
      "Epoch 1/35\n",
      "363/363 [==============================] - 2s 3ms/step - loss: 0.8324 - mean_absolute_error: 0.6191 - val_loss: 1.7913 - val_mean_absolute_error: 0.5213\n",
      "Epoch 2/35\n",
      "363/363 [==============================] - 1s 2ms/step - loss: 0.7806 - mean_absolute_error: 0.4979 - val_loss: 0.5926 - val_mean_absolute_error: 0.4923\n",
      "Epoch 3/35\n",
      "363/363 [==============================] - 1s 2ms/step - loss: 0.4359 - mean_absolute_error: 0.4626 - val_loss: 0.4226 - val_mean_absolute_error: 0.4653\n",
      "Epoch 4/35\n",
      "363/363 [==============================] - 1s 2ms/step - loss: 0.3858 - mean_absolute_error: 0.4442 - val_loss: 0.3942 - val_mean_absolute_error: 0.4449\n",
      "Epoch 5/35\n",
      "363/363 [==============================] - 1s 2ms/step - loss: 0.3704 - mean_absolute_error: 0.4350 - val_loss: 0.3852 - val_mean_absolute_error: 0.4494\n",
      "Epoch 6/35\n",
      "363/363 [==============================] - 1s 2ms/step - loss: 0.3604 - mean_absolute_error: 0.4288 - val_loss: 0.3741 - val_mean_absolute_error: 0.4420\n",
      "Epoch 7/35\n",
      "363/363 [==============================] - 1s 3ms/step - loss: 0.3541 - mean_absolute_error: 0.4246 - val_loss: 0.3672 - val_mean_absolute_error: 0.4305\n",
      "Epoch 8/35\n",
      "363/363 [==============================] - 1s 3ms/step - loss: 0.3494 - mean_absolute_error: 0.4207 - val_loss: 0.3641 - val_mean_absolute_error: 0.4287\n",
      "Epoch 9/35\n",
      "363/363 [==============================] - 1s 2ms/step - loss: 0.3525 - mean_absolute_error: 0.4199 - val_loss: 0.4402 - val_mean_absolute_error: 0.4621\n",
      "Epoch 10/35\n",
      "363/363 [==============================] - 1s 2ms/step - loss: 0.3617 - mean_absolute_error: 0.4264 - val_loss: 0.3547 - val_mean_absolute_error: 0.4248\n",
      "Epoch 11/35\n",
      "363/363 [==============================] - 1s 3ms/step - loss: 0.3444 - mean_absolute_error: 0.4169 - val_loss: 0.3486 - val_mean_absolute_error: 0.4206\n",
      "Epoch 12/35\n",
      "363/363 [==============================] - 1s 2ms/step - loss: 0.3410 - mean_absolute_error: 0.4148 - val_loss: 0.3509 - val_mean_absolute_error: 0.4174\n",
      "Epoch 13/35\n",
      "363/363 [==============================] - 1s 2ms/step - loss: 0.3377 - mean_absolute_error: 0.4116 - val_loss: 0.3461 - val_mean_absolute_error: 0.4135\n",
      "Epoch 14/35\n",
      "363/363 [==============================] - 1s 3ms/step - loss: 0.3365 - mean_absolute_error: 0.4105 - val_loss: 0.3472 - val_mean_absolute_error: 0.4119\n",
      "Epoch 15/35\n",
      "363/363 [==============================] - 1s 2ms/step - loss: 0.3347 - mean_absolute_error: 0.4101 - val_loss: 0.3410 - val_mean_absolute_error: 0.4148\n",
      "Epoch 16/35\n",
      "363/363 [==============================] - 1s 3ms/step - loss: 0.3311 - mean_absolute_error: 0.4070 - val_loss: 0.3445 - val_mean_absolute_error: 0.4081\n",
      "Epoch 17/35\n",
      "363/363 [==============================] - 1s 2ms/step - loss: 0.3297 - mean_absolute_error: 0.4066 - val_loss: 0.3390 - val_mean_absolute_error: 0.4072\n",
      "Epoch 18/35\n",
      "363/363 [==============================] - 1s 2ms/step - loss: 0.3287 - mean_absolute_error: 0.4054 - val_loss: 0.3433 - val_mean_absolute_error: 0.4074\n",
      "Epoch 19/35\n",
      "363/363 [==============================] - 1s 2ms/step - loss: 0.3284 - mean_absolute_error: 0.4047 - val_loss: 0.3333 - val_mean_absolute_error: 0.4059\n",
      "Epoch 20/35\n",
      "363/363 [==============================] - 1s 3ms/step - loss: 0.3260 - mean_absolute_error: 0.4034 - val_loss: 0.3377 - val_mean_absolute_error: 0.4103\n",
      "Epoch 21/35\n",
      "363/363 [==============================] - 1s 2ms/step - loss: 0.3247 - mean_absolute_error: 0.4020 - val_loss: 0.3308 - val_mean_absolute_error: 0.4070\n",
      "Epoch 22/35\n",
      "363/363 [==============================] - 1s 2ms/step - loss: 0.3244 - mean_absolute_error: 0.4025 - val_loss: 0.3373 - val_mean_absolute_error: 0.4002\n",
      "Epoch 23/35\n",
      "363/363 [==============================] - 1s 2ms/step - loss: 0.3217 - mean_absolute_error: 0.4002 - val_loss: 0.3351 - val_mean_absolute_error: 0.4051\n",
      "Epoch 24/35\n",
      "363/363 [==============================] - 1s 2ms/step - loss: 0.3206 - mean_absolute_error: 0.3996 - val_loss: 0.3310 - val_mean_absolute_error: 0.4082\n",
      "Epoch 25/35\n",
      "363/363 [==============================] - 1s 2ms/step - loss: 0.3199 - mean_absolute_error: 0.3985 - val_loss: 0.3279 - val_mean_absolute_error: 0.4039\n",
      "Epoch 26/35\n",
      "363/363 [==============================] - 1s 2ms/step - loss: 0.3178 - mean_absolute_error: 0.3979 - val_loss: 0.3282 - val_mean_absolute_error: 0.3983\n",
      "Epoch 27/35\n",
      "363/363 [==============================] - 1s 2ms/step - loss: 0.3166 - mean_absolute_error: 0.3963 - val_loss: 0.3318 - val_mean_absolute_error: 0.4001\n",
      "Epoch 28/35\n",
      "363/363 [==============================] - 1s 2ms/step - loss: 0.3141 - mean_absolute_error: 0.3950 - val_loss: 0.3293 - val_mean_absolute_error: 0.3988\n",
      "Epoch 29/35\n",
      "363/363 [==============================] - 1s 3ms/step - loss: 0.3140 - mean_absolute_error: 0.3956 - val_loss: 0.3220 - val_mean_absolute_error: 0.3951\n",
      "Epoch 30/35\n",
      "363/363 [==============================] - 1s 2ms/step - loss: 0.3130 - mean_absolute_error: 0.3945 - val_loss: 0.3179 - val_mean_absolute_error: 0.3964\n",
      "Epoch 31/35\n",
      "363/363 [==============================] - 1s 3ms/step - loss: 0.3133 - mean_absolute_error: 0.3942 - val_loss: 0.3210 - val_mean_absolute_error: 0.4034\n",
      "Epoch 32/35\n",
      "363/363 [==============================] - 1s 3ms/step - loss: 0.3109 - mean_absolute_error: 0.3924 - val_loss: 0.3191 - val_mean_absolute_error: 0.3918\n",
      "Epoch 33/35\n",
      "363/363 [==============================] - 1s 3ms/step - loss: 0.3092 - mean_absolute_error: 0.3915 - val_loss: 0.3150 - val_mean_absolute_error: 0.3906\n",
      "Epoch 34/35\n",
      "363/363 [==============================] - 1s 3ms/step - loss: 0.3075 - mean_absolute_error: 0.3906 - val_loss: 0.3136 - val_mean_absolute_error: 0.3919\n",
      "Epoch 35/35\n",
      "363/363 [==============================] - 1s 3ms/step - loss: 0.3071 - mean_absolute_error: 0.3903 - val_loss: 0.3144 - val_mean_absolute_error: 0.3952\n"
     ]
    },
    {
     "data": {
      "text/plain": [
       "<keras.callbacks.History at 0x28b431d2dc0>"
      ]
     },
     "execution_count": 30,
     "metadata": {},
     "output_type": "execute_result"
    }
   ],
   "source": [
    "model.fit(X_train_s, y_train1, epochs=35,\n",
    "          validation_data=(X_validation_s, y_validation))"
   ]
  }
 ],
 "metadata": {
  "kernelspec": {
   "display_name": "Python 3",
   "language": "python",
   "name": "python3"
  },
  "language_info": {
   "codemirror_mode": {
    "name": "ipython",
    "version": 3
   },
   "file_extension": ".py",
   "mimetype": "text/x-python",
   "name": "python",
   "nbconvert_exporter": "python",
   "pygments_lexer": "ipython3",
   "version": "3.8.8"
  }
 },
 "nbformat": 4,
 "nbformat_minor": 5
}
